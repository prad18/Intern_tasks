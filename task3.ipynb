{
  "cells": [
    {
      "cell_type": "markdown",
      "metadata": {},
      "source": [
        "### TASK 3: ADD CUSTOM NER LABEL"
      ]
    },
    {
      "cell_type": "code",
      "execution_count": 1,
      "metadata": {
        "id": "GQcPhler98Tu"
      },
      "outputs": [],
      "source": [
        "import spacy\n",
        "from spacy.training import Example\n",
        "from spacy.util import minibatch\n",
        "import random"
      ]
    },
    {
      "cell_type": "code",
      "execution_count": 3,
      "metadata": {
        "id": "M3fqaajB995E"
      },
      "outputs": [],
      "source": [
        "TRAIN_DATA = [\n",
        "    (\"Naruto is a popular anime series.\", {\"entities\": [(0, 6, \"ANIME\")]}),\n",
        "    (\"Attack on Titan has an incredible storyline.\", {\"entities\": [(0, 15, \"ANIME\")]}),\n",
        "    (\"One Piece follows the adventures of pirates.\", {\"entities\": [(0, 9, \"ANIME\")]}),\n",
        "    (\"Dragon Ball Z features epic battles.\", {\"entities\": [(0, 14, \"ANIME\")]}),\n",
        "    (\"Death Note is a psychological thriller anime.\", {\"entities\": [(0, 10, \"ANIME\")]}),\n",
        "    (\"Demon Slayer has stunning animation and visuals.\", {\"entities\": [(0, 12, \"ANIME\")]}),\n",
        "    (\"My Neighbor Totoro is a classic film by Studio Ghibli.\", {\"entities\": [(0, 19, \"ANIME\")]}),\n",
        "    (\"Fullmetal Alchemist explores the concept of alchemy.\", {\"entities\": [(0, 20, \"ANIME\")]}),\n",
        "    (\"Tokyo Ghoul is a dark fantasy anime.\", {\"entities\": [(0, 11, \"ANIME\")]}),\n",
        "    (\"Bleach tells the story of a soul reaper.\", {\"entities\": [(0, 6, \"ANIME\")]}),\n",
        "    (\"Spirited Away is a masterpiece of animation.\", {\"entities\": [(0, 14, \"ANIME\")]}),\n",
        "    (\"Sword Art Online is set in a virtual reality world.\", {\"entities\": [(0, 16, \"ANIME\")]}),\n",
        "    (\"Cowboy Bebop is a sci-fi anime loved by fans.\", {\"entities\": [(0, 13, \"ANIME\")]}),\n",
        "    (\"Bungou Stray Dogs features a detective agency.\", {\"entities\": [(0, 18, \"ANIME\")]}),\n",
        "    (\"Dr. Stone is about rebuilding civilization with science.\", {\"entities\": [(0, 8, \"ANIME\")]}),\n",
        "    (\"Code Geass is known for its complex plot.\", {\"entities\": [(0, 10, \"ANIME\")]}),\n",
        "    (\"Neon Genesis Evangelion redefined the mecha genre.\", {\"entities\": [(0, 23, \"ANIME\")]}),\n",
        "    (\"Steins;Gate explores time travel.\", {\"entities\": [(0, 11, \"ANIME\")]}),\n",
        "    (\"Hunter x Hunter is a popular shonen anime.\", {\"entities\": [(0, 14, \"ANIME\")]}),\n",
        "    (\"Black Clover is about magic and rivalries.\", {\"entities\": [(0, 12, \"ANIME\")]}),\n",
        "    (\"JoJo's Bizarre Adventure is known for its unique art style.\", {\"entities\": [(0, 24, \"ANIME\")]}),\n",
        "    (\"Fairy Tail is a story about wizards and friendship.\", {\"entities\": [(0, 10, \"ANIME\")]}),\n",
        "    (\"Akame ga Kill is a dark anime series.\", {\"entities\": [(0, 14, \"ANIME\")]}),\n",
        "    (\"Re:Zero is an isekai anime with a twist.\", {\"entities\": [(0, 6, \"ANIME\")]}),\n",
        "    (\"The Seven Deadly Sins is about a group of knights.\", {\"entities\": [(0, 21, \"ANIME\")]}),\n",
        "    (\"Haikyuu!! is a sports anime about volleyball.\", {\"entities\": [(0, 9, \"ANIME\")]}),\n",
        "    (\"Clannad is an emotional slice-of-life anime.\", {\"entities\": [(0, 7, \"ANIME\")]}),\n",
        "    (\"Your Lie in April is a touching story of music and love.\", {\"entities\": [(0, 17, \"ANIME\")]}),\n",
        "    (\"Violet Evergarden is a beautifully animated series.\", {\"entities\": [(0, 17, \"ANIME\")]}),\n",
        "    (\"Made in Abyss is a tale of exploration and danger.\", {\"entities\": [(0, 13, \"ANIME\")]}),\n",
        "]"
      ]
    },
    {
      "cell_type": "code",
      "execution_count": 4,
      "metadata": {
        "id": "anKKZzm0-HyP"
      },
      "outputs": [],
      "source": [
        "nlp = spacy.blank(\"en\")"
      ]
    },
    {
      "cell_type": "code",
      "execution_count": 5,
      "metadata": {
        "id": "spyLzlw1-L6Q"
      },
      "outputs": [],
      "source": [
        "ner = nlp.add_pipe(\"ner\", last=True)"
      ]
    },
    {
      "cell_type": "code",
      "execution_count": 6,
      "metadata": {
        "colab": {
          "base_uri": "https://localhost:8080/"
        },
        "id": "pwq9qVgE-OW2",
        "outputId": "dd4e2985-e916-430f-8f27-a00501030694"
      },
      "outputs": [
        {
          "data": {
            "text/plain": [
              "1"
            ]
          },
          "execution_count": 6,
          "metadata": {},
          "output_type": "execute_result"
        }
      ],
      "source": [
        "ner.add_label(\"ANIME\")\n"
      ]
    },
    {
      "cell_type": "code",
      "execution_count": 7,
      "metadata": {
        "colab": {
          "base_uri": "https://localhost:8080/"
        },
        "id": "bQC-IPKE-Rrx",
        "outputId": "c48135c7-d607-4e98-8e60-43e0f998d58e"
      },
      "outputs": [
        {
          "name": "stderr",
          "output_type": "stream",
          "text": [
            "/usr/local/lib/python3.10/dist-packages/spacy/training/iob_utils.py:149: UserWarning: [W030] Some entities could not be aligned in the text \"Re:Zero is an isekai anime with a twist.\" with entities \"[(0, 6, 'ANIME')]\". Use `spacy.training.offsets_to_biluo_tags(nlp.make_doc(text), entities)` to check the alignment. Misaligned entities ('-') will be ignored during training.\n",
            "  warnings.warn(\n",
            "/usr/local/lib/python3.10/dist-packages/spacy/training/iob_utils.py:149: UserWarning: [W030] Some entities could not be aligned in the text \"Akame ga Kill is a dark anime series.\" with entities \"[(0, 14, 'ANIME')]\". Use `spacy.training.offsets_to_biluo_tags(nlp.make_doc(text), entities)` to check the alignment. Misaligned entities ('-') will be ignored during training.\n",
            "  warnings.warn(\n",
            "/usr/local/lib/python3.10/dist-packages/spacy/training/iob_utils.py:149: UserWarning: [W030] Some entities could not be aligned in the text \"Dragon Ball Z features epic battles.\" with entities \"[(0, 14, 'ANIME')]\". Use `spacy.training.offsets_to_biluo_tags(nlp.make_doc(text), entities)` to check the alignment. Misaligned entities ('-') will be ignored during training.\n",
            "  warnings.warn(\n",
            "/usr/local/lib/python3.10/dist-packages/spacy/training/iob_utils.py:149: UserWarning: [W030] Some entities could not be aligned in the text \"Dr. Stone is about rebuilding civilization with sc...\" with entities \"[(0, 8, 'ANIME')]\". Use `spacy.training.offsets_to_biluo_tags(nlp.make_doc(text), entities)` to check the alignment. Misaligned entities ('-') will be ignored during training.\n",
            "  warnings.warn(\n",
            "/usr/local/lib/python3.10/dist-packages/spacy/training/iob_utils.py:149: UserWarning: [W030] Some entities could not be aligned in the text \"Bungou Stray Dogs features a detective agency.\" with entities \"[(0, 18, 'ANIME')]\". Use `spacy.training.offsets_to_biluo_tags(nlp.make_doc(text), entities)` to check the alignment. Misaligned entities ('-') will be ignored during training.\n",
            "  warnings.warn(\n",
            "/usr/local/lib/python3.10/dist-packages/spacy/training/iob_utils.py:149: UserWarning: [W030] Some entities could not be aligned in the text \"Fullmetal Alchemist explores the concept of alchem...\" with entities \"[(0, 20, 'ANIME')]\". Use `spacy.training.offsets_to_biluo_tags(nlp.make_doc(text), entities)` to check the alignment. Misaligned entities ('-') will be ignored during training.\n",
            "  warnings.warn(\n",
            "/usr/local/lib/python3.10/dist-packages/spacy/training/iob_utils.py:149: UserWarning: [W030] Some entities could not be aligned in the text \"Spirited Away is a masterpiece of animation.\" with entities \"[(0, 14, 'ANIME')]\". Use `spacy.training.offsets_to_biluo_tags(nlp.make_doc(text), entities)` to check the alignment. Misaligned entities ('-') will be ignored during training.\n",
            "  warnings.warn(\n",
            "/usr/local/lib/python3.10/dist-packages/spacy/training/iob_utils.py:149: UserWarning: [W030] Some entities could not be aligned in the text \"Cowboy Bebop is a sci-fi anime loved by fans.\" with entities \"[(0, 13, 'ANIME')]\". Use `spacy.training.offsets_to_biluo_tags(nlp.make_doc(text), entities)` to check the alignment. Misaligned entities ('-') will be ignored during training.\n",
            "  warnings.warn(\n",
            "/usr/local/lib/python3.10/dist-packages/spacy/training/iob_utils.py:149: UserWarning: [W030] Some entities could not be aligned in the text \"Hunter x Hunter is a popular shonen anime.\" with entities \"[(0, 14, 'ANIME')]\". Use `spacy.training.offsets_to_biluo_tags(nlp.make_doc(text), entities)` to check the alignment. Misaligned entities ('-') will be ignored during training.\n",
            "  warnings.warn(\n",
            "/usr/local/lib/python3.10/dist-packages/spacy/training/iob_utils.py:149: UserWarning: [W030] Some entities could not be aligned in the text \"My Neighbor Totoro is a classic film by Studio Ghi...\" with entities \"[(0, 19, 'ANIME')]\". Use `spacy.training.offsets_to_biluo_tags(nlp.make_doc(text), entities)` to check the alignment. Misaligned entities ('-') will be ignored during training.\n",
            "  warnings.warn(\n"
          ]
        }
      ],
      "source": [
        "optimizer = nlp.begin_training()\n",
        "for epoch in range(30):\n",
        "    random.shuffle(TRAIN_DATA)\n",
        "    losses = {}\n",
        "    batches = minibatch(TRAIN_DATA, size=2)\n",
        "    for batch in batches:\n",
        "        examples = [Example.from_dict(nlp.make_doc(text), annotations) for text, annotations in batch]\n",
        "        nlp.update(examples, drop=0.2, losses=losses)"
      ]
    },
    {
      "cell_type": "code",
      "execution_count": 8,
      "metadata": {
        "id": "CwPi7RrB-Zkx"
      },
      "outputs": [],
      "source": [
        "output_dir = \"anime_ner_model\"\n",
        "nlp.to_disk(output_dir)"
      ]
    },
    {
      "cell_type": "code",
      "execution_count": 9,
      "metadata": {
        "colab": {
          "base_uri": "https://localhost:8080/"
        },
        "id": "chZik5SF-dRZ",
        "outputId": "542a5aaa-9c25-4e28-d3b9-bff9b6e93f72"
      },
      "outputs": [
        {
          "name": "stdout",
          "output_type": "stream",
          "text": [
            "Attack on Titan ANIME\n"
          ]
        }
      ],
      "source": [
        "nlp = spacy.load(output_dir)\n",
        "doc = nlp(\"Attack on Titan is famous in japan.\")\n",
        "for ent in doc.ents:\n",
        "  print(ent.text, ent.label_)"
      ]
    },
    {
      "cell_type": "code",
      "execution_count": null,
      "metadata": {
        "collapsed": true,
        "id": "GEdO3qrA-tDf"
      },
      "outputs": [],
      "source": []
    },
    {
      "cell_type": "code",
      "execution_count": null,
      "metadata": {
        "id": "M4s3m1hFBN5z"
      },
      "outputs": [],
      "source": []
    },
    {
      "cell_type": "code",
      "execution_count": null,
      "metadata": {
        "id": "3zMYO15qB_nI"
      },
      "outputs": [],
      "source": []
    }
  ],
  "metadata": {
    "colab": {
      "provenance": []
    },
    "kernelspec": {
      "display_name": "Python 3",
      "name": "python3"
    },
    "language_info": {
      "codemirror_mode": {
        "name": "ipython",
        "version": 3
      },
      "file_extension": ".py",
      "mimetype": "text/x-python",
      "name": "python",
      "nbconvert_exporter": "python",
      "pygments_lexer": "ipython3",
      "version": "3.12.2"
    }
  },
  "nbformat": 4,
  "nbformat_minor": 0
}
