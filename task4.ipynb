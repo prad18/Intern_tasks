{
 "cells": [
  {
   "cell_type": "code",
   "execution_count": 16,
   "id": "af0c0773",
   "metadata": {},
   "outputs": [
    {
     "name": "stdout",
     "output_type": "stream",
     "text": [
      "Requirement already satisfied: spacy in c:\\users\\daksh\\software\\lib\\site-packages (3.8.3)\n",
      "Requirement already satisfied: pyinflect in c:\\users\\daksh\\software\\lib\\site-packages (0.5.1)\n",
      "Requirement already satisfied: spacy-legacy<3.1.0,>=3.0.11 in c:\\users\\daksh\\software\\lib\\site-packages (from spacy) (3.0.12)\n",
      "Requirement already satisfied: spacy-loggers<2.0.0,>=1.0.0 in c:\\users\\daksh\\software\\lib\\site-packages (from spacy) (1.0.5)\n",
      "Requirement already satisfied: murmurhash<1.1.0,>=0.28.0 in c:\\users\\daksh\\software\\lib\\site-packages (from spacy) (1.0.11)\n",
      "Requirement already satisfied: cymem<2.1.0,>=2.0.2 in c:\\users\\daksh\\software\\lib\\site-packages (from spacy) (2.0.10)\n",
      "Requirement already satisfied: preshed<3.1.0,>=3.0.2 in c:\\users\\daksh\\software\\lib\\site-packages (from spacy) (3.0.9)\n",
      "Requirement already satisfied: thinc<8.4.0,>=8.3.0 in c:\\users\\daksh\\software\\lib\\site-packages (from spacy) (8.3.3)\n",
      "Requirement already satisfied: wasabi<1.2.0,>=0.9.1 in c:\\users\\daksh\\software\\lib\\site-packages (from spacy) (1.1.3)\n",
      "Requirement already satisfied: srsly<3.0.0,>=2.4.3 in c:\\users\\daksh\\software\\lib\\site-packages (from spacy) (2.5.0)\n",
      "Requirement already satisfied: catalogue<2.1.0,>=2.0.6 in c:\\users\\daksh\\software\\lib\\site-packages (from spacy) (2.0.10)\n",
      "Requirement already satisfied: weasel<0.5.0,>=0.1.0 in c:\\users\\daksh\\software\\lib\\site-packages (from spacy) (0.4.1)\n",
      "Requirement already satisfied: typer<1.0.0,>=0.3.0 in c:\\users\\daksh\\software\\lib\\site-packages (from spacy) (0.15.1)\n",
      "Requirement already satisfied: tqdm<5.0.0,>=4.38.0 in c:\\users\\daksh\\software\\lib\\site-packages (from spacy) (4.66.4)\n",
      "Requirement already satisfied: numpy>=1.19.0 in c:\\users\\daksh\\software\\lib\\site-packages (from spacy) (1.26.4)\n",
      "Requirement already satisfied: requests<3.0.0,>=2.13.0 in c:\\users\\daksh\\software\\lib\\site-packages (from spacy) (2.32.2)\n",
      "Requirement already satisfied: pydantic!=1.8,!=1.8.1,<3.0.0,>=1.7.4 in c:\\users\\daksh\\software\\lib\\site-packages (from spacy) (2.10.4)\n",
      "Requirement already satisfied: jinja2 in c:\\users\\daksh\\software\\lib\\site-packages (from spacy) (3.1.4)\n",
      "Requirement already satisfied: setuptools in c:\\users\\daksh\\software\\lib\\site-packages (from spacy) (69.5.1)\n",
      "Requirement already satisfied: packaging>=20.0 in c:\\users\\daksh\\software\\lib\\site-packages (from spacy) (23.2)\n",
      "Requirement already satisfied: langcodes<4.0.0,>=3.2.0 in c:\\users\\daksh\\software\\lib\\site-packages (from spacy) (3.5.0)\n",
      "Requirement already satisfied: language-data>=1.2 in c:\\users\\daksh\\software\\lib\\site-packages (from langcodes<4.0.0,>=3.2.0->spacy) (1.3.0)\n",
      "Requirement already satisfied: annotated-types>=0.6.0 in c:\\users\\daksh\\software\\lib\\site-packages (from pydantic!=1.8,!=1.8.1,<3.0.0,>=1.7.4->spacy) (0.6.0)\n",
      "Requirement already satisfied: pydantic-core==2.27.2 in c:\\users\\daksh\\software\\lib\\site-packages (from pydantic!=1.8,!=1.8.1,<3.0.0,>=1.7.4->spacy) (2.27.2)\n",
      "Requirement already satisfied: typing-extensions>=4.12.2 in c:\\users\\daksh\\software\\lib\\site-packages (from pydantic!=1.8,!=1.8.1,<3.0.0,>=1.7.4->spacy) (4.12.2)\n",
      "Requirement already satisfied: charset-normalizer<4,>=2 in c:\\users\\daksh\\software\\lib\\site-packages (from requests<3.0.0,>=2.13.0->spacy) (2.0.4)\n",
      "Requirement already satisfied: idna<4,>=2.5 in c:\\users\\daksh\\software\\lib\\site-packages (from requests<3.0.0,>=2.13.0->spacy) (3.7)\n",
      "Requirement already satisfied: urllib3<3,>=1.21.1 in c:\\users\\daksh\\software\\lib\\site-packages (from requests<3.0.0,>=2.13.0->spacy) (2.2.2)\n",
      "Requirement already satisfied: certifi>=2017.4.17 in c:\\users\\daksh\\software\\lib\\site-packages (from requests<3.0.0,>=2.13.0->spacy) (2024.7.4)\n",
      "Requirement already satisfied: blis<1.2.0,>=1.1.0 in c:\\users\\daksh\\software\\lib\\site-packages (from thinc<8.4.0,>=8.3.0->spacy) (1.1.0)\n",
      "Requirement already satisfied: confection<1.0.0,>=0.0.1 in c:\\users\\daksh\\software\\lib\\site-packages (from thinc<8.4.0,>=8.3.0->spacy) (0.1.5)\n",
      "Requirement already satisfied: colorama in c:\\users\\daksh\\software\\lib\\site-packages (from tqdm<5.0.0,>=4.38.0->spacy) (0.4.6)\n",
      "Requirement already satisfied: click>=8.0.0 in c:\\users\\daksh\\software\\lib\\site-packages (from typer<1.0.0,>=0.3.0->spacy) (8.1.7)\n",
      "Requirement already satisfied: shellingham>=1.3.0 in c:\\users\\daksh\\software\\lib\\site-packages (from typer<1.0.0,>=0.3.0->spacy) (1.5.4)\n",
      "Requirement already satisfied: rich>=10.11.0 in c:\\users\\daksh\\software\\lib\\site-packages (from typer<1.0.0,>=0.3.0->spacy) (13.3.5)\n",
      "Requirement already satisfied: cloudpathlib<1.0.0,>=0.7.0 in c:\\users\\daksh\\software\\lib\\site-packages (from weasel<0.5.0,>=0.1.0->spacy) (0.20.0)\n",
      "Requirement already satisfied: smart-open<8.0.0,>=5.2.1 in c:\\users\\daksh\\software\\lib\\site-packages (from weasel<0.5.0,>=0.1.0->spacy) (5.2.1)\n",
      "Requirement already satisfied: MarkupSafe>=2.0 in c:\\users\\daksh\\software\\lib\\site-packages (from jinja2->spacy) (2.1.3)\n",
      "Requirement already satisfied: marisa-trie>=1.1.0 in c:\\users\\daksh\\software\\lib\\site-packages (from language-data>=1.2->langcodes<4.0.0,>=3.2.0->spacy) (1.2.1)\n",
      "Requirement already satisfied: markdown-it-py<3.0.0,>=2.2.0 in c:\\users\\daksh\\software\\lib\\site-packages (from rich>=10.11.0->typer<1.0.0,>=0.3.0->spacy) (2.2.0)\n",
      "Requirement already satisfied: pygments<3.0.0,>=2.13.0 in c:\\users\\daksh\\software\\lib\\site-packages (from rich>=10.11.0->typer<1.0.0,>=0.3.0->spacy) (2.15.1)\n",
      "Requirement already satisfied: mdurl~=0.1 in c:\\users\\daksh\\software\\lib\\site-packages (from markdown-it-py<3.0.0,>=2.2.0->rich>=10.11.0->typer<1.0.0,>=0.3.0->spacy) (0.1.0)\n",
      "Note: you may need to restart the kernel to use updated packages.\n"
     ]
    }
   ],
   "source": [
    "pip install spacy pyinflect"
   ]
  },
  {
   "cell_type": "code",
   "execution_count": 17,
   "id": "1103aa8f-9730-40a5-8a18-5e6acef63585",
   "metadata": {},
   "outputs": [],
   "source": [
    "import spacy"
   ]
  },
  {
   "cell_type": "code",
   "execution_count": 19,
   "id": "163147ab-fd33-422c-a5d7-57ff1250a25d",
   "metadata": {},
   "outputs": [],
   "source": [
    "nlp = spacy.load('en_core_web_sm')"
   ]
  },
  {
   "cell_type": "code",
   "execution_count": 20,
   "id": "7e6d3596-9bda-412c-97b9-728818bd4d6f",
   "metadata": {},
   "outputs": [],
   "source": [
    "import pyinflect"
   ]
  },
  {
   "cell_type": "code",
   "execution_count": 21,
   "id": "ae3b5b24-ee44-40cf-877e-44be6d87a9bd",
   "metadata": {},
   "outputs": [],
   "source": [
    "from spacy.language import Language"
   ]
  },
  {
   "cell_type": "code",
   "execution_count": 23,
   "id": "70e7e5f0-0a8e-4010-813a-071002372d01",
   "metadata": {},
   "outputs": [
    {
     "name": "stdout",
     "output_type": "stream",
     "text": [
      " Token:  The  POS:  DET  Lemma:  the  Morph:  Definite=Def|PronType=Art\n",
      "********************************************************************************\n",
      " Token:  runners  POS:  NOUN  Lemma:  runner  Morph:  Number=Plur\n",
      "********************************************************************************\n",
      "Inflected (Singular):  runner\n",
      "Inflected (Plural):  runners\n",
      "--------------------------------------------------\n",
      " Token:  were  POS:  AUX  Lemma:  be  Morph:  Mood=Ind|Tense=Past|VerbForm=Fin\n",
      "********************************************************************************\n",
      " Token:  running  POS:  VERB  Lemma:  run  Morph:  Aspect=Prog|Tense=Pres|VerbForm=Part\n",
      "********************************************************************************\n",
      "Inflected (Past Tense):  ran\n",
      "Inflected (Present Participle):  running\n",
      "Inflected (Verb):  run\n",
      "Inflected (Past Participle):  run\n",
      "Inflected (Non-3rd Person Singular Present):  run\n",
      "Inflected (3rd Person Singular Present):  runs\n",
      "--------------------------------------------------\n",
      " Token:  quickly  POS:  ADV  Lemma:  quickly  Morph:  \n",
      "********************************************************************************\n",
      "Inflected (Adverb):  quickly\n",
      "Inflected (AdComparative):  quicklier\n",
      "Inflected (AdSuperlative):  quickliest\n",
      "--------------------------------------------------\n",
      " Token:  and  POS:  CCONJ  Lemma:  and  Morph:  ConjType=Cmp\n",
      "********************************************************************************\n",
      " Token:  won  POS:  VERB  Lemma:  win  Morph:  Tense=Past|VerbForm=Fin\n",
      "********************************************************************************\n",
      "Inflected (Past Tense):  won\n",
      "Inflected (Present Participle):  winning\n",
      "Inflected (Verb):  win\n",
      "Inflected (Past Participle):  won\n",
      "Inflected (Non-3rd Person Singular Present):  win\n",
      "Inflected (3rd Person Singular Present):  wins\n",
      "--------------------------------------------------\n",
      " Token:  the  POS:  DET  Lemma:  the  Morph:  Definite=Def|PronType=Art\n",
      "********************************************************************************\n",
      " Token:  races  POS:  NOUN  Lemma:  race  Morph:  Number=Plur\n",
      "********************************************************************************\n",
      "Inflected (Singular):  race\n",
      "Inflected (Plural):  races\n",
      "--------------------------------------------------\n",
      " Token:  .  POS:  PUNCT  Lemma:  .  Morph:  PunctType=Peri\n",
      "********************************************************************************\n"
     ]
    }
   ],
   "source": [
    "import spacy\n",
    "from spacy.language import Language\n",
    "\n",
    "nlp = spacy.load(\"en_core_web_sm\")\n",
    "\n",
    "@Language.component(\"custom_component\")\n",
    "def custom_component(doc):\n",
    "    for token in doc:\n",
    "        lemma = token.lemma_\n",
    "        pos = token.pos_\n",
    "        morph = token.morph\n",
    "        print(\" Token: \", token.text, \" POS: \", pos, \" Lemma: \", lemma, \" Morph: \", morph)\n",
    "        print(\"*\" * 80)\n",
    "\n",
    "        if pos == 'NOUN':\n",
    "            noun_singular = token._.inflect(\"NN\")\n",
    "            noun_plural = token._.inflect(\"NNS\")\n",
    "\n",
    "            print(\"Inflected (Singular): \", noun_singular)\n",
    "            print(\"Inflected (Plural): \", noun_plural)\n",
    "            print(\"-\" * 50)\n",
    "        elif pos == 'VERB':\n",
    "            past_tense = token._.inflect(\"VBD\")\n",
    "            present_participle = token._.inflect(\"VBG\")\n",
    "            verb = token._.inflect(\"VB\")\n",
    "            past_participle = token._.inflect(\"VBN\")\n",
    "            non_3rd_prsn_singular_present = token._.inflect(\"VBP\")\n",
    "            _3rd_prsn_singular_present = token._.inflect(\"VBZ\")\n",
    "\n",
    "            print(\"Inflected (Past Tense): \", past_tense)\n",
    "            print(\"Inflected (Present Participle): \", present_participle)\n",
    "            print(\"Inflected (Verb): \", verb)\n",
    "            print(\"Inflected (Past Participle): \", past_participle)\n",
    "            print(\"Inflected (Non-3rd Person Singular Present): \", non_3rd_prsn_singular_present)\n",
    "            print(\"Inflected (3rd Person Singular Present): \", _3rd_prsn_singular_present)\n",
    "            print(\"-\" * 50)\n",
    "        elif pos == \"ADJ\":\n",
    "            adjective = token._.inflect(\"JJ\")\n",
    "            comparative = token._.inflect(\"JJR\")\n",
    "            superlative = token._.inflect(\"JJS\")\n",
    "\n",
    "            print(\"Inflected (Adjective): \", adjective)\n",
    "            print(\"Inflected (AdjComparative): \", comparative)\n",
    "            print(\"Inflected (AdjSuperlative): \", superlative)\n",
    "            print(\"-\" * 50)\n",
    "        elif pos == \"ADV\":\n",
    "            adverb = token._.inflect(\"RB\")\n",
    "            comparative = token._.inflect(\"RBR\")\n",
    "            superlative = token._.inflect(\"RBS\")\n",
    "\n",
    "            print(\"Inflected (Adverb): \", adverb)\n",
    "            print(\"Inflected (AdComparative): \", comparative)\n",
    "            print(\"Inflected (AdSuperlative): \", superlative)\n",
    "            print(\"-\" * 50)\n",
    "    return doc\n",
    "\n",
    "nlp.add_pipe(\"custom_component\", last=True)\n",
    "\n",
    "sentence = \"The runners were running quickly and won the races.\"\n",
    "\n",
    "doc = nlp(sentence)"
   ]
  }
 ],
 "metadata": {
  "kernelspec": {
   "display_name": "base",
   "language": "python",
   "name": "python3"
  },
  "language_info": {
   "codemirror_mode": {
    "name": "ipython",
    "version": 3
   },
   "file_extension": ".py",
   "mimetype": "text/x-python",
   "name": "python",
   "nbconvert_exporter": "python",
   "pygments_lexer": "ipython3",
   "version": "3.12.4"
  }
 },
 "nbformat": 4,
 "nbformat_minor": 5
}
