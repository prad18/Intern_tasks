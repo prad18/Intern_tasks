{
 "cells": [
  {
   "cell_type": "markdown",
   "metadata": {},
   "source": [
    "##  TASK 2: META INFORMATION - PAGE NUMBER"
   ]
  },
  {
   "cell_type": "code",
   "execution_count": 4,
   "metadata": {},
   "outputs": [],
   "source": [
    "import spacy\n",
    "from spacy_layout import spaCyLayout\n",
    "from dataclasses import dataclass, fields"
   ]
  },
  {
   "cell_type": "code",
   "execution_count": 5,
   "metadata": {},
   "outputs": [
    {
     "name": "stderr",
     "output_type": "stream",
     "text": [
      "c:\\Users\\Anish\\AppData\\Local\\Programs\\Python\\Python312\\Lib\\site-packages\\thinc\\shims\\pytorch.py:261: FutureWarning: You are using `torch.load` with `weights_only=False` (the current default value), which uses the default pickle module implicitly. It is possible to construct malicious pickle data which will execute arbitrary code during unpickling (See https://github.com/pytorch/pytorch/blob/main/SECURITY.md#untrusted-models for more details). In a future release, the default value for `weights_only` will be flipped to `True`. This limits the functions that could be executed during unpickling. Arbitrary objects will no longer be allowed to be loaded via this mode unless they are explicitly allowlisted by the user via `torch.serialization.add_safe_globals`. We recommend you start setting `weights_only=True` for any use case where you don't have full control of the loaded file. Please open an issue on GitHub for any issues related to this experimental feature.\n",
      "  model.load_state_dict(torch.load(filelike, map_location=device))\n"
     ]
    }
   ],
   "source": [
    "nlp = spacy.load(\"en_core_web_trf\")"
   ]
  },
  {
   "cell_type": "code",
   "execution_count": 6,
   "metadata": {},
   "outputs": [],
   "source": [
    "layout = spaCyLayout(nlp)\n",
    "\n",
    "doc = layout(\"./stories.pdf\")"
   ]
  },
  {
   "cell_type": "code",
   "execution_count": 7,
   "metadata": {},
   "outputs": [
    {
     "data": {
      "text/plain": [
       "The Hare and Tortoise- Best Short Story in English\n",
       "\n",
       "Summary of this popular moral story for students-\n",
       "\n",
       "A hare and tortoise lived in a distant jungle. But the hare always mocked the tortoise.\n",
       "\n",
       "'You are so slow, do you ever make it on time?'\n",
       "\n",
       "Offended by the rude tone, the tortoise replied in a humble tone.\n",
       "\n",
       "'Don't be so arrogant, let's compete in a race, and see who's faster!'\n",
       "\n",
       "The hare burst into laughter and declared the other side of the hill as the final point.\n",
       "\n",
       "Both the animals started off, and the hare ran faster to reach the finish line in no time!\n",
       "\n",
       "Soon the hare felt exhausted and stopped for a quick nap.\n",
       "\n",
       "As the overconfident hare dozed off, the tortoise quietly surpassed him. By the time the hare woke up and ran to the finish point, the tortoise had already won the race!\n",
       "\n",
       "Story for kids moralOverconfidence never helps. One should never look down upon others.\n",
       "\n",
       "The Ant and the Grasshopper\n",
       "\n",
       "Another legendary name in the world of short and moral stories in English is The Ant and the Grasshopper!\n",
       "\n",
       "Summary of this story for kids-\n",
       "\n",
       "In the summers, industrious ants were busy gathering food in the lush grassland. They were planning for winters, and made use of the precious summer time to relax in the chilling winters. At the same time, a sloppy grasshopper spent all his time playing in the meadow around.\n",
       "\n",
       "In the winter the ant's army enjoyed their food and rested in a cozy hole. But the grasshopper was on the verge of starving!\n",
       "\n",
       "The grasshopper begged for food. And the ants were generous and saved his life.\n",
       "\n",
       "Moral (small stories with moral) -We must plan for harsh times in life.\n",
       "\n",
       "The Merchant's Donkey- Moral Story for Students\n",
       "\n",
       "In a distant land, a merchant used his donkey to deliver goods and edibles to the market. One day, the merchant and the donkey were crossing the river with a sack of salt. Accidentally, the donkey slipped into the water!\n",
       "\n",
       "The salt instantly dissolved in the water. And the donkey was suddenly relieved of the weight.\n",
       "\n",
       "Next time, the donkey intentionally slipped into the water to get rid of the weight. And the merchant noticed this smart trick!\n",
       "\n",
       "The next day, the merchant made a smart move and loaded the donkey with large pieces of sponge. The donkey lacked critical thinking. And repeated the same trick foolishly. But this time his back became much heavier.\n",
       "\n",
       "Moral story for studentsIntegrity is the only right path in life.\n",
       "\n",
       "The Woodcutter and the Axe- One of the Small Stories with Moral\n",
       "\n",
       "A woodcutter lived happily in a village. Each day, he diligently earned his living by cutting wood from the forest and selling it to the merchant. One day, he was busy while cutting a piece of wood. But the axe sipped off his hands and fell into the lake underneath.\n",
       "\n",
       "The poor woodcutter cried. He was upset and prayed to God. Suddenly the Goddess appeared and asked him, 'Son, why are you so upset?'\n",
       "\n",
       "Next in this story for kids, the woodcutter replied, 'Mother! My axe fell into the water. Please help me to get it back!'.\n",
       "\n",
       "Again the woodcutter denied. Finally, the Goddess got his iron axe from the water and asked him, 'Is this the one?'\n",
       "\n",
       "The woodcutter thanked the Goddess for her kindness. The Goddess was highly impressed with the honesty of the poor woodcutter. She rewarded him with both the valuable axes along with his own!\n",
       "\n",
       "Takeaway (short stories with morals) We must always choose to be honest in all conditions.\n",
       "\n",
       "A Lazy Man and the God's Plan- Short Stories with Morals\n",
       "\n",
       "Once upon a time, there lived a lazy man who wanted to get everything easily. One day he came across a crippled fox and wondered how he survived. To the man's surprise, a lion left a piece of meat for the fox. This triggered an idea in the man's mind, 'The superpower takes care of all our needs'.\n",
       "\n",
       "This lazy man decided to wait for some help from the superpower to feed him too. But nothing came his way. The next day, the man was starving And suddenly, he saw a sage passing by. The man asked the sage, 'If there is a superpower that can feed a crippled animal, why can't it feed me?'. The sage was wise and replied,\n",
       "\n",
       "'The superpower does govern the world. But he wants you to be like the lion and not the fox!'.\n",
       "\n",
       "Key Takeaway -Moral story for students- We must never make easy choices.\n",
       "\n",
       "The Giving Tree- Story for Kids\n",
       "\n",
       "A long time ago, a lonely boy happened to pass by a huge tree. He rested in the tree's shade, ate yummy fruits, and played with the branches all day. Very soon, this boy developed a special bond of friendship with this tree. And visited it often.\n",
       "\n",
       "Like many other small stories with moral, the story came to a point when the boy became busy. And completely ignored the tree. Many years later, he again passed by the tree and noticed that it had gone barren. The boy who was now a man instantly regretted his negligence towards the tree. But the tree was a true friend, and never forgot their special bond. As the man apologized the tree said, 'I loved\n",
       "\n",
       "being your friend, now cut my branches and build your home. And never forget to nurture your relationships with love and care!'\n",
       "\n",
       "The Lion and the Mouse (Short Stories in English)\n",
       "\n",
       "On a peaceful sunny afternoon, a lion was lying under a shady tree. A mouse happened to stumble upon the lion's paw while passing.\n",
       "\n",
       "The disturbed lion angrily got up and wanted to crush the mouse. The mouse was scared to death and said 'Please spare my life, one day I will repay you.' The lion laughed in amusement but was generous enough to spare the tiny creature's life.\n",
       "\n",
       "After a few days, the lion got stuck in a hunter's net. This time, the mouse had a chance to repay the lion. He hurriedly gnawed the net with his teeth, and released the lion!\n",
       "\n",
       "Two Frogs (Moral Tales in English)\n",
       "\n",
       "A big group of frogs was crossing the jungle. Suddenly, two of them slipped and fell into a pit. All the frogs outside shouted that the pit was deep and they could never make it out. One of the two frogs in the pit gave up hope of coming out. But the second one summoned all courage and started leaping out.\n",
       "\n",
       "The frogs outside shouted in anxiousness that urged him to go back. The frog did not give up hope and eventually made his way out!\n",
       "\n",
       "All the frogs asked him why he ignored their warning. And the fr\n"
      ]
     },
     "execution_count": 7,
     "metadata": {},
     "output_type": "execute_result"
    }
   ],
   "source": [
    "doc = nlp(doc)\n",
    "doc"
   ]
  },
  {
   "cell_type": "code",
   "execution_count": 8,
   "metadata": {},
   "outputs": [],
   "source": [
    "final={}\n",
    "for i in range(len(doc._.pages)):\n",
    "    a=[]\n",
    "    for field in fields(doc._.pages[i][0]):\n",
    "        a.append(getattr(doc._.pages[i][0], field.name))\n",
    "    final.update({a[0]:doc._.pages[i][1]})"
   ]
  },
  {
   "cell_type": "code",
   "execution_count": 9,
   "metadata": {},
   "outputs": [
    {
     "data": {
      "text/plain": [
       "{1: [The Hare and Tortoise- Best Short Story in English,\n",
       "  Summary of this popular moral story for students-,\n",
       "  A hare and tortoise lived in a distant jungle. But the hare always mocked the tortoise.,\n",
       "  'You are so slow, do you ever make it on time?',\n",
       "  Offended by the rude tone, the tortoise replied in a humble tone.,\n",
       "  'Don't be so arrogant, let's compete in a race, and see who's faster!',\n",
       "  The hare burst into laughter and declared the other side of the hill as the final point.,\n",
       "  Both the animals started off, and the hare ran faster to reach the finish line in no time!,\n",
       "  Soon the hare felt exhausted and stopped for a quick nap.,\n",
       "  As the overconfident hare dozed off, the tortoise quietly surpassed him. By the time the hare woke up and ran to the finish point, the tortoise had already won the race!,\n",
       "  Story for kids moralOverconfidence never helps. One should never look down upon others.,\n",
       "  The Ant and the Grasshopper,\n",
       "  Another legendary name in the world of short and moral stories in English is The Ant and the Grasshopper!,\n",
       "  Summary of this story for kids-,\n",
       "  In the summers, industrious ants were busy gathering food in the lush grassland. They were planning for winters, and made use of the precious summer time to relax in the chilling winters. At the same time, a sloppy grasshopper spent all his time playing in the meadow around.,\n",
       "  In the winter the ant's army enjoyed their food and rested in a cozy hole. But the grasshopper was on the verge of starving!,\n",
       "  The grasshopper begged for food. And the ants were generous and saved his life.,\n",
       "  Moral (small stories with moral) -We must plan for harsh times in life.,\n",
       "  The Merchant's Donkey- Moral Story for Students,\n",
       "  In a distant land, a merchant used his donkey to deliver goods and edibles to the market. One day, the merchant and the donkey were crossing the river with a sack of salt. Accidentally, the donkey slipped into the water!,\n",
       "  The salt instantly dissolved in the water. And the donkey was suddenly relieved of the weight.,\n",
       "  Next time, the donkey intentionally slipped into the water to get rid of the weight. And the merchant noticed this smart trick!],\n",
       " 2: [The next day, the merchant made a smart move and loaded the donkey with large pieces of sponge. The donkey lacked critical thinking. And repeated the same trick foolishly. But this time his back became much heavier.,\n",
       "  Moral story for studentsIntegrity is the only right path in life.,\n",
       "  The Woodcutter and the Axe- One of the Small Stories with Moral,\n",
       "  A woodcutter lived happily in a village. Each day, he diligently earned his living by cutting wood from the forest and selling it to the merchant. One day, he was busy while cutting a piece of wood. But the axe sipped off his hands and fell into the lake underneath.,\n",
       "  The poor woodcutter cried. He was upset and prayed to God. Suddenly the Goddess appeared and asked him, 'Son, why are you so upset?',\n",
       "  Next in this story for kids, the woodcutter replied, 'Mother! My axe fell into the water. Please help me to get it back!'.,\n",
       "  Again the woodcutter denied. Finally, the Goddess got his iron axe from the water and asked him, 'Is this the one?',\n",
       "  The woodcutter thanked the Goddess for her kindness. The Goddess was highly impressed with the honesty of the poor woodcutter. She rewarded him with both the valuable axes along with his own!,\n",
       "  Takeaway (short stories with morals) We must always choose to be honest in all conditions.,\n",
       "  A Lazy Man and the God's Plan- Short Stories with Morals,\n",
       "  Once upon a time, there lived a lazy man who wanted to get everything easily. One day he came across a crippled fox and wondered how he survived. To the man's surprise, a lion left a piece of meat for the fox. This triggered an idea in the man's mind, 'The superpower takes care of all our needs'.,\n",
       "  This lazy man decided to wait for some help from the superpower to feed him too. But nothing came his way. The next day, the man was starving And suddenly, he saw a sage passing by. The man asked the sage, 'If there is a superpower that can feed a crippled animal, why can't it feed me?'. The sage was wise and replied,,\n",
       "  'The superpower does govern the world. But he wants you to be like the lion and not the fox!'.,\n",
       "  Key Takeaway -Moral story for students- We must never make easy choices.,\n",
       "  The Giving Tree- Story for Kids,\n",
       "  A long time ago, a lonely boy happened to pass by a huge tree. He rested in the tree's shade, ate yummy fruits, and played with the branches all day. Very soon, this boy developed a special bond of friendship with this tree. And visited it often.,\n",
       "  Like many other small stories with moral, the story came to a point when the boy became busy. And completely ignored the tree. Many years later, he again passed by the tree and noticed that it had gone barren. The boy who was now a man instantly regretted his negligence towards the tree. But the tree was a true friend, and never forgot their special bond. As the man apologized the tree said, 'I loved],\n",
       " 3: [being your friend, now cut my branches and build your home. And never forget to nurture your relationships with love and care!',\n",
       "  The Lion and the Mouse (Short Stories in English),\n",
       "  On a peaceful sunny afternoon, a lion was lying under a shady tree. A mouse happened to stumble upon the lion's paw while passing.,\n",
       "  The disturbed lion angrily got up and wanted to crush the mouse. The mouse was scared to death and said 'Please spare my life, one day I will repay you.' The lion laughed in amusement but was generous enough to spare the tiny creature's life.,\n",
       "  After a few days, the lion got stuck in a hunter's net. This time, the mouse had a chance to repay the lion. He hurriedly gnawed the net with his teeth, and released the lion!,\n",
       "  Two Frogs (Moral Tales in English),\n",
       "  A big group of frogs was crossing the jungle. Suddenly, two of them slipped and fell into a pit. All the frogs outside shouted that the pit was deep and they could never make it out. One of the two frogs in the pit gave up hope of coming out. But the second one summoned all courage and started leaping out.,\n",
       "  The frogs outside shouted in anxiousness that urged him to go back. The frog did not give up hope and eventually made his way out!,\n",
       "  All the frogs asked him why he ignored their warning. And the fr]}"
      ]
     },
     "execution_count": 9,
     "metadata": {},
     "output_type": "execute_result"
    }
   ],
   "source": [
    "final"
   ]
  },
  {
   "cell_type": "code",
   "execution_count": 10,
   "metadata": {},
   "outputs": [
    {
     "data": {
      "text/plain": [
       "[The Hare and Tortoise- Best Short Story in English,\n",
       " Summary of this popular moral story for students-,\n",
       " A hare and tortoise lived in a distant jungle. But the hare always mocked the tortoise.,\n",
       " 'You are so slow, do you ever make it on time?',\n",
       " Offended by the rude tone, the tortoise replied in a humble tone.,\n",
       " 'Don't be so arrogant, let's compete in a race, and see who's faster!',\n",
       " The hare burst into laughter and declared the other side of the hill as the final point.,\n",
       " Both the animals started off, and the hare ran faster to reach the finish line in no time!,\n",
       " Soon the hare felt exhausted and stopped for a quick nap.,\n",
       " As the overconfident hare dozed off, the tortoise quietly surpassed him. By the time the hare woke up and ran to the finish point, the tortoise had already won the race!,\n",
       " Story for kids moralOverconfidence never helps. One should never look down upon others.,\n",
       " The Ant and the Grasshopper,\n",
       " Another legendary name in the world of short and moral stories in English is The Ant and the Grasshopper!,\n",
       " Summary of this story for kids-,\n",
       " In the summers, industrious ants were busy gathering food in the lush grassland. They were planning for winters, and made use of the precious summer time to relax in the chilling winters. At the same time, a sloppy grasshopper spent all his time playing in the meadow around.,\n",
       " In the winter the ant's army enjoyed their food and rested in a cozy hole. But the grasshopper was on the verge of starving!,\n",
       " The grasshopper begged for food. And the ants were generous and saved his life.,\n",
       " Moral (small stories with moral) -We must plan for harsh times in life.,\n",
       " The Merchant's Donkey- Moral Story for Students,\n",
       " In a distant land, a merchant used his donkey to deliver goods and edibles to the market. One day, the merchant and the donkey were crossing the river with a sack of salt. Accidentally, the donkey slipped into the water!,\n",
       " The salt instantly dissolved in the water. And the donkey was suddenly relieved of the weight.,\n",
       " Next time, the donkey intentionally slipped into the water to get rid of the weight. And the merchant noticed this smart trick!]"
      ]
     },
     "execution_count": 10,
     "metadata": {},
     "output_type": "execute_result"
    }
   ],
   "source": [
    "final[1]"
   ]
  },
  {
   "cell_type": "code",
   "execution_count": 11,
   "metadata": {},
   "outputs": [
    {
     "data": {
      "text/plain": [
       "[The next day, the merchant made a smart move and loaded the donkey with large pieces of sponge. The donkey lacked critical thinking. And repeated the same trick foolishly. But this time his back became much heavier.,\n",
       " Moral story for studentsIntegrity is the only right path in life.,\n",
       " The Woodcutter and the Axe- One of the Small Stories with Moral,\n",
       " A woodcutter lived happily in a village. Each day, he diligently earned his living by cutting wood from the forest and selling it to the merchant. One day, he was busy while cutting a piece of wood. But the axe sipped off his hands and fell into the lake underneath.,\n",
       " The poor woodcutter cried. He was upset and prayed to God. Suddenly the Goddess appeared and asked him, 'Son, why are you so upset?',\n",
       " Next in this story for kids, the woodcutter replied, 'Mother! My axe fell into the water. Please help me to get it back!'.,\n",
       " Again the woodcutter denied. Finally, the Goddess got his iron axe from the water and asked him, 'Is this the one?',\n",
       " The woodcutter thanked the Goddess for her kindness. The Goddess was highly impressed with the honesty of the poor woodcutter. She rewarded him with both the valuable axes along with his own!,\n",
       " Takeaway (short stories with morals) We must always choose to be honest in all conditions.,\n",
       " A Lazy Man and the God's Plan- Short Stories with Morals,\n",
       " Once upon a time, there lived a lazy man who wanted to get everything easily. One day he came across a crippled fox and wondered how he survived. To the man's surprise, a lion left a piece of meat for the fox. This triggered an idea in the man's mind, 'The superpower takes care of all our needs'.,\n",
       " This lazy man decided to wait for some help from the superpower to feed him too. But nothing came his way. The next day, the man was starving And suddenly, he saw a sage passing by. The man asked the sage, 'If there is a superpower that can feed a crippled animal, why can't it feed me?'. The sage was wise and replied,,\n",
       " 'The superpower does govern the world. But he wants you to be like the lion and not the fox!'.,\n",
       " Key Takeaway -Moral story for students- We must never make easy choices.,\n",
       " The Giving Tree- Story for Kids,\n",
       " A long time ago, a lonely boy happened to pass by a huge tree. He rested in the tree's shade, ate yummy fruits, and played with the branches all day. Very soon, this boy developed a special bond of friendship with this tree. And visited it often.,\n",
       " Like many other small stories with moral, the story came to a point when the boy became busy. And completely ignored the tree. Many years later, he again passed by the tree and noticed that it had gone barren. The boy who was now a man instantly regretted his negligence towards the tree. But the tree was a true friend, and never forgot their special bond. As the man apologized the tree said, 'I loved]"
      ]
     },
     "execution_count": 11,
     "metadata": {},
     "output_type": "execute_result"
    }
   ],
   "source": [
    "final[2]"
   ]
  },
  {
   "cell_type": "code",
   "execution_count": 12,
   "metadata": {},
   "outputs": [
    {
     "data": {
      "text/plain": [
       "[being your friend, now cut my branches and build your home. And never forget to nurture your relationships with love and care!',\n",
       " The Lion and the Mouse (Short Stories in English),\n",
       " On a peaceful sunny afternoon, a lion was lying under a shady tree. A mouse happened to stumble upon the lion's paw while passing.,\n",
       " The disturbed lion angrily got up and wanted to crush the mouse. The mouse was scared to death and said 'Please spare my life, one day I will repay you.' The lion laughed in amusement but was generous enough to spare the tiny creature's life.,\n",
       " After a few days, the lion got stuck in a hunter's net. This time, the mouse had a chance to repay the lion. He hurriedly gnawed the net with his teeth, and released the lion!,\n",
       " Two Frogs (Moral Tales in English),\n",
       " A big group of frogs was crossing the jungle. Suddenly, two of them slipped and fell into a pit. All the frogs outside shouted that the pit was deep and they could never make it out. One of the two frogs in the pit gave up hope of coming out. But the second one summoned all courage and started leaping out.,\n",
       " The frogs outside shouted in anxiousness that urged him to go back. The frog did not give up hope and eventually made his way out!,\n",
       " All the frogs asked him why he ignored their warning. And the fr]"
      ]
     },
     "execution_count": 12,
     "metadata": {},
     "output_type": "execute_result"
    }
   ],
   "source": [
    "final[3]"
   ]
  }
 ],
 "metadata": {
  "kernelspec": {
   "display_name": "Python 3",
   "language": "python",
   "name": "python3"
  },
  "language_info": {
   "codemirror_mode": {
    "name": "ipython",
    "version": 3
   },
   "file_extension": ".py",
   "mimetype": "text/x-python",
   "name": "python",
   "nbconvert_exporter": "python",
   "pygments_lexer": "ipython3",
   "version": "3.12.2"
  }
 },
 "nbformat": 4,
 "nbformat_minor": 2
}
